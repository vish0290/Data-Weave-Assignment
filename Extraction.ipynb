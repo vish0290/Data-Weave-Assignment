{
 "cells": [
  {
   "cell_type": "markdown",
   "id": "c1a0ec67",
   "metadata": {},
   "source": [
    "# Attibutes\n",
    "\n",
    "category\n",
    "crawl_date\n",
    "sub_cat\n",
    "title\n",
    "mrp\n",
    "urlh\n",
    "http_status\n",
    "pack_size\n",
    "available_price\n"
   ]
  },
  {
   "cell_type": "markdown",
   "id": "743191b0",
   "metadata": {},
   "source": [
    "## 1. Number of URLH which are overlapping (Common) in two files."
   ]
  },
  {
   "cell_type": "code",
   "execution_count": 1,
   "id": "9d218199",
   "metadata": {},
   "outputs": [
    {
     "name": "stdout",
     "output_type": "stream",
     "text": [
      "129673\n"
     ]
    }
   ],
   "source": [
    "import json\n",
    "urlh_tod={0} #empty sets to store urlh data from today file\n",
    "urlh_yest={1} #empty sets to store urlh data from yesterday file\n",
    "with open(\"today.json\") as file:\n",
    "    for obj in file: #read each json obj and store in a temp dict\n",
    "        dic = json.loads(obj)\n",
    "        urlh_tod.add(dic[\"urlh\"])\n",
    "with open(\"yesterday.json\") as file2:\n",
    "    for obj in file2:\n",
    "        dic = json.loads(obj)\n",
    "        urlh_yest.add(dic[\"urlh\"])\n",
    "y = urlh_tod.intersection(urlh_yest)# Built-in set function to find the intersection of 2 sets(toay,yesterday)\n",
    "print(len(y)) #The final common elements count\n"
   ]
  },
  {
   "cell_type": "markdown",
   "id": "306ab328",
   "metadata": {},
   "source": [
    "### 2. For all the URLH which are overlapping, calculate the price difference (wrt available_price) if there is any between yesterday's and today's crawls (scraped data). There might be duplicate URLHs in which case you can choose the first valid (with http_status 200) record. (todo)"
   ]
  },
  {
   "cell_type": "code",
   "execution_count": null,
   "id": "897f32b8",
   "metadata": {},
   "outputs": [],
   "source": [
    "tod=[] #empty lists to store urlh data from today file\n",
    "yest=[] #empty lists to store urlh data from yesterday file\n",
    "with open(\"today.json\") as file:\n",
    "    for obj in file: #read each json obj and store in a temp dict\n",
    "        dic = json.loads(obj)\n",
    "        tod.append(dic)\n",
    "with open(\"yesterday.json\") as file2:\n",
    "    for obj in file2:\n",
    "        dic = json.loads(obj)\n",
    "        yest.append(dic)    \n",
    "        \n",
    "main_yest = {}\n",
    "main_tod = {}\n",
    "for i in yest:\n",
    "    if i[\"urlh\"] in main_yest.keys():\n",
    "        if (main_yest[i[\"urlh\"]][0] != 200) and (i[\"http_status\"]==200) and (i[\"available_price\"] != None):\n",
    "            main_yest[i[\"urlh\"]] = [i[\"http_status\"],i[\"available_price\"]]\n",
    "    elif i[\"available_price\"] != None:\n",
    "        temp={i[\"urlh\"]:[i[\"http_status\"],i[\"available_price\"]]}\n",
    "        main_yest.update(temp)\n",
    "for i in tod:\n",
    "    if i[\"urlh\"] in main_tod.keys():\n",
    "        if (main_tod[i[\"urlh\"]][0] != 200) and (i[\"http_status\"]==200) and (i[\"available_price\"] != None):\n",
    "            main_tod[i[\"urlh\"]] = [i[\"http_status\"],i[\"available_price\"]]\n",
    "    elif i[\"available_price\"] != None:\n",
    "        temp={i[\"urlh\"]:[i[\"http_status\"],i[\"available_price\"]]}\n",
    "        main_tod.update(temp)\n",
    "\n",
    "unlist = list(main_yest.keys())\n",
    "diff = {}\n",
    "for i in unlist:\n",
    "    if i in main_tod.keys():\n",
    "        diffval = float(main_tod[i][1])-float(main_yest[i][1])\n",
    "        temp = {i:[main_tod[i][0],diffval]}\n",
    "        diff.update(temp)\n",
    "for i in diff.items():\n",
    "    print(i)"
   ]
  },
  {
   "cell_type": "markdown",
   "id": "0578098c",
   "metadata": {},
   "source": [
    "# 3. Number of Unique categories in both files."
   ]
  },
  {
   "cell_type": "code",
   "execution_count": null,
   "id": "ae641aa8",
   "metadata": {},
   "outputs": [],
   "source": [
    "cat_today={0} #empty sets to store category data from today file\n",
    "cat_yest={1} #empty sets to store category data from yesterday file\n",
    "with open(\"today.json\") as file:\n",
    "    for obj in file: #read each json obj and store in a temp dict\n",
    "        dic = json.loads(obj)\n",
    "        cat_today.add(dic[\"category\"])\n",
    "with open(\"yesterday.json\") as file2:\n",
    "    for obj in file2:\n",
    "        dic = json.loads(obj)\n",
    "        cat_yest.add(dic[\"category\"])\n",
    "y = cat_today.union(cat_yest)#the built-in union function of set that concate the both sets and avoids the duplications\n",
    "y.remove(0) #as this was a junk value just to define a set \n",
    "y.remove(1) #we will remove it\n",
    "print(len(y))"
   ]
  },
  {
   "cell_type": "markdown",
   "id": "25d757bb",
   "metadata": {},
   "source": [
    "## 4. Display List of categories which is not overlapping (Common) from two given files."
   ]
  },
  {
   "cell_type": "code",
   "execution_count": null,
   "id": "3bb6a670",
   "metadata": {},
   "outputs": [],
   "source": [
    "cat_today=[] #empty list to store category data from today file\n",
    "cat_yest=[]  #empty list to store category data from yesterday file\n",
    "with open(\"today.json\") as file:\n",
    "    for obj in file:\n",
    "        dic = json.loads(obj)\n",
    "        cat_today.append(dic[\"category\"])\n",
    "with open(\"yesterday.json\") as file2:\n",
    "    for obj in file2:\n",
    "        dic = json.loads(obj)\n",
    "        cat_yest.append(dic[\"category\"])\n",
    "dicory={} # empty dictionary that will store the non common category \n",
    "for i in cat_today:\n",
    "    temp={i:0}\n",
    "    dicory.update(temp) #take the category from the first file and assign them as keys\n",
    "for i in cat_yest:\n",
    "    if i in dicory.keys():# check the category of yesterday file in dictionary keys\n",
    "        dicory.pop(i) # pop the common category \n",
    "print(dicory)\n",
    "\n",
    "\n",
    "#alternative way\n",
    "#y = c.symmetric_difference(d)\n",
    "#print(y)"
   ]
  },
  {
   "cell_type": "markdown",
   "id": "5be579b0",
   "metadata": {},
   "source": [
    "## 5. Generate the stats with count of urlh for all taxonomies (taxonomy is concatenation of category and subcategory separated by \" > \") for today's file."
   ]
  },
  {
   "cell_type": "code",
   "execution_count": null,
   "id": "225aa30e",
   "metadata": {},
   "outputs": [],
   "source": [
    "today_data = [] \n",
    "cat_today  = []\n",
    "count=0\n",
    "with open(\"today.json\") as file:\n",
    "    for obj in file: \n",
    "        dic = json.loads(obj)\n",
    "        cat_today.append(dic[\"category\"]) #store the category in list\n",
    "        today_data.append(dic) # store the entire object in list\n",
    "cat_today = list(set(cat_today)) #removes the duplication of a list\n",
    "for i in cat_today:\n",
    "    sub_catlist = []\n",
    "    for c_obj in today_data:\n",
    "        if c_obj[\"category\"] == i:\n",
    "            sub_catlist.append(c_obj[\"subcategory\"])\n",
    "    uniq_list = list(set(sub_catlist))\n",
    "    \n",
    "    for j in uniq_list:\n",
    "        count+=1\n",
    "        print(f\"{count} {i} > {j} ==> {sub_catlist.count(j)}\")"
   ]
  },
  {
   "cell_type": "markdown",
   "id": "5929b47d",
   "metadata": {},
   "source": [
    "##  6. Generate a new file where mrp is normalized. If there is a 0 or a non-float value or the key doesn't exist, make it \"NA\"."
   ]
  },
  {
   "cell_type": "code",
   "execution_count": null,
   "id": "f8340a50",
   "metadata": {},
   "outputs": [],
   "source": [
    "t_data=[]\n",
    "count=0\n",
    "with open(\"today.json\") as file:\n",
    "    for obj in file: \n",
    "        dic = json.loads(obj)\n",
    "        t_data.append(dic)\n",
    "for i in t_data:\n",
    "    if i[\"mrp\"] == None or float(i[\"mrp\"])<=0 or type(i['mrp'])==int :\n",
    "        i[\"mrp\"]=\"NA\"\n",
    "with open(\"newdata.json\",\"w\") as nd:\n",
    "    for i in t_data:\n",
    "        json.dump(i,nd,indent=4)"
   ]
  },
  {
   "cell_type": "markdown",
   "id": "ad57aa90",
   "metadata": {},
   "source": [
    "# 7. Display the title and price of 10 items having least price."
   ]
  },
  {
   "cell_type": "code",
   "execution_count": null,
   "id": "8ba77e32",
   "metadata": {},
   "outputs": [],
   "source": [
    "data = []\n",
    "with open(\"today.json\") as file:\n",
    "    for obj in file: #read each json obj and store in a temp dict\n",
    "        dic = json.loads(obj)\n",
    "        if dic['title'] != None or dic['available_price'] != None:\n",
    "            temp = [dic[\"available_price\"],dic[\"title\"]]\n",
    "            data.append(temp)\n",
    "data = sorted(data)\n",
    "for i in range(10):\n",
    "    print(f\"{data[i][1]} --> {data[i][0]}\")"
   ]
  },
  {
   "cell_type": "markdown",
   "id": "42464ab6",
   "metadata": {},
   "source": [
    "# 8. Display the top 5 subcategory having highest items."
   ]
  },
  {
   "cell_type": "code",
   "execution_count": null,
   "id": "f6962a07",
   "metadata": {},
   "outputs": [],
   "source": [
    "subcat = []\n",
    "data=[]\n",
    "with open(\"today.json\") as fo:\n",
    "    for o in fo:\n",
    "        dic = json.loads(o)\n",
    "        subcat.append(dic[\"subcategory\"])\n",
    "unisub = list(set(subcat))\n",
    "\n",
    "for i in unisub:\n",
    "    temp = [subcat.count(i),i]\n",
    "    data.append(temp)\n",
    "\n",
    "data = sorted(data,reverse=True)\n",
    "for i in range(5):\n",
    "    print(f\"{data[i][1]}-->{data[i][0]}\")"
   ]
  },
  {
   "cell_type": "markdown",
   "id": "4853644b",
   "metadata": {},
   "source": [
    "## 9. Display stats of how many items have failed status (http_status other than 200 is to be considered as failure)."
   ]
  },
  {
   "cell_type": "code",
   "execution_count": null,
   "id": "a10c1965",
   "metadata": {},
   "outputs": [],
   "source": [
    "statusdata = []\n",
    "with open(\"today.json\") as f:\n",
    "    for i in f:\n",
    "        d=json.loads(i)\n",
    "        if d[\"http_status\"] > \"200\":\n",
    "            statusdata.append(d[\"http_status\"])\n",
    "uq = set(statusdata)            \n",
    "print(\"Http_status --> count\")\n",
    "for i in uq:\n",
    "    print(f\"{i} --> {statusdata.count(i)}\")"
   ]
  }
 ],
 "metadata": {
  "kernelspec": {
   "display_name": "Python 3 (ipykernel)",
   "language": "python",
   "name": "python3"
  },
  "language_info": {
   "codemirror_mode": {
    "name": "ipython",
    "version": 3
   },
   "file_extension": ".py",
   "mimetype": "text/x-python",
   "name": "python",
   "nbconvert_exporter": "python",
   "pygments_lexer": "ipython3",
   "version": "3.8.12"
  }
 },
 "nbformat": 4,
 "nbformat_minor": 5
}

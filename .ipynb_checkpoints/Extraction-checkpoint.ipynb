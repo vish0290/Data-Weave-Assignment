{
 "cells": [
  {
   "cell_type": "markdown",
   "id": "c1a0ec67",
   "metadata": {},
   "source": [
    "# Attibutes\n",
    "\"\"\"\n",
    "category\n",
    "crawl_date\n",
    "sub_cat\n",
    "title\n",
    "mrp\n",
    "urlh\n",
    "http_status\n",
    "pack_size\n",
    "available_price\n",
    "\"\"\""
   ]
  },
  {
   "cell_type": "markdown",
   "id": "743191b0",
   "metadata": {},
   "source": [
    "## Number of URLH which are overlapping (Common) in two files."
   ]
  },
  {
   "cell_type": "code",
   "execution_count": 51,
   "id": "9d218199",
   "metadata": {},
   "outputs": [
    {
     "name": "stdout",
     "output_type": "stream",
     "text": [
      "129673\n"
     ]
    }
   ],
   "source": [
    "import json\n",
    "urlh_tod={0} #empty sets to store urlh data from today file\n",
    "urlh_yest={1} #empty sets to store urlh data from yesterday file\n",
    "with open(\"today.json\") as file:\n",
    "    for obj in file: #read each json obj and store in a temp dict\n",
    "        dic = json.loads(obj)\n",
    "        urlh_tod.add(dic[\"urlh\"])\n",
    "with open(\"yesterday.json\") as file2:\n",
    "    for obj in file2:\n",
    "        dic = json.loads(obj)\n",
    "        urlh_yest.add(dic[\"urlh\"])\n",
    "y = urlh_tod.intersection(urlh_yest)\n",
    "print(len(y)) #The final common elements count\n"
   ]
  },
  {
   "cell_type": "markdown",
   "id": "306ab328",
   "metadata": {},
   "source": [
    "### For all the URLH which are overlapping, calculate the price difference (wrt available_price) if there is any between yesterday's and today's crawls (scraped data). There might be duplicate URLHs in which case you can choose the first valid (with http_status 200) record."
   ]
  },
  {
   "cell_type": "code",
   "execution_count": null,
   "id": "897f32b8",
   "metadata": {},
   "outputs": [],
   "source": []
  },
  {
   "cell_type": "markdown",
   "id": "0578098c",
   "metadata": {},
   "source": [
    "# Number of Unique categories in both files."
   ]
  },
  {
   "cell_type": "code",
   "execution_count": 56,
   "id": "ae641aa8",
   "metadata": {},
   "outputs": [
    {
     "name": "stdout",
     "output_type": "stream",
     "text": [
      "50\n"
     ]
    }
   ],
   "source": [
    "cat_today={0} #empty sets to store category data from today file\n",
    "cat_yest={1} #empty sets to store category data from yesterday file\n",
    "with open(\"today.json\") as file:\n",
    "    for obj in file: #read each json obj and store in a temp dict\n",
    "        dic = json.loads(obj)\n",
    "        cat_today.add(dic[\"category\"])\n",
    "with open(\"yesterday.json\") as file2:\n",
    "    for obj in file2:\n",
    "        dic = json.loads(obj)\n",
    "        cat_yest.add(dic[\"category\"])\n",
    "y = cat_today.union(cat_yest)\n",
    "y.remove(0) #as this was a junk value just to define a set \n",
    "y.remove(1) #we will remove it\n",
    "print(len(y))"
   ]
  },
  {
   "cell_type": "markdown",
   "id": "25d757bb",
   "metadata": {},
   "source": [
    "## Display List of categories which is not overlapping (Common) from two given files."
   ]
  },
  {
   "cell_type": "code",
   "execution_count": 72,
   "id": "3bb6a670",
   "metadata": {},
   "outputs": [
    {
     "name": "stdout",
     "output_type": "stream",
     "text": [
      "{}\n",
      "set()\n"
     ]
    }
   ],
   "source": [
    "cat_today=[] #empty list to store category data from today file\n",
    "cat_yest=[]  #empty list to store category data from yesterday file\n",
    "with open(\"today.json\") as file:\n",
    "    for obj in file: #read each json obj and store in a temp dict\n",
    "        dic = json.loads(obj)\n",
    "        cat_today.append(dic[\"category\"])\n",
    "with open(\"yesterday.json\") as file2:\n",
    "    for obj in file2:\n",
    "        dic = json.loads(obj)\n",
    "        cat_yest.append(dic[\"category\"])\n",
    "dicory={}\n",
    "for i in cat_today:\n",
    "    temp={i:0}\n",
    "    dicory.update(temp)\n",
    "for i in cat_yest:\n",
    "    if i in dicory.keys():\n",
    "        dicory.pop(i)\n",
    "print(dicory)\n",
    "\n",
    "\n",
    "#alternative way\n",
    "y = c.symmetric_difference(d)\n",
    "print(y)"
   ]
  },
  {
   "cell_type": "markdown",
   "id": "ad57aa90",
   "metadata": {},
   "source": [
    "# Display the title and price of 10 items having least price.`"
   ]
  },
  {
   "cell_type": "code",
   "execution_count": 85,
   "id": "8ba77e32",
   "metadata": {},
   "outputs": [
    {
     "ename": "TypeError",
     "evalue": "float() argument must be a string or a number, not 'NoneType'",
     "output_type": "error",
     "traceback": [
      "\u001b[0;31m---------------------------------------------------------------------------\u001b[0m",
      "\u001b[0;31mTypeError\u001b[0m                                 Traceback (most recent call last)",
      "\u001b[0;32m/tmp/ipykernel_5626/3457920694.py\u001b[0m in \u001b[0;36m<module>\u001b[0;34m\u001b[0m\n\u001b[1;32m      4\u001b[0m     \u001b[0;32mfor\u001b[0m \u001b[0mobj\u001b[0m \u001b[0;32min\u001b[0m \u001b[0mfile\u001b[0m\u001b[0;34m:\u001b[0m \u001b[0;31m#read each json obj and store in a temp dict\u001b[0m\u001b[0;34m\u001b[0m\u001b[0;34m\u001b[0m\u001b[0m\n\u001b[1;32m      5\u001b[0m         \u001b[0mdic\u001b[0m \u001b[0;34m=\u001b[0m \u001b[0mjson\u001b[0m\u001b[0;34m.\u001b[0m\u001b[0mloads\u001b[0m\u001b[0;34m(\u001b[0m\u001b[0mobj\u001b[0m\u001b[0;34m)\u001b[0m\u001b[0;34m\u001b[0m\u001b[0;34m\u001b[0m\u001b[0m\n\u001b[0;32m----> 6\u001b[0;31m         \u001b[0mtemp\u001b[0m \u001b[0;34m=\u001b[0m \u001b[0;34m{\u001b[0m\u001b[0mdic\u001b[0m\u001b[0;34m[\u001b[0m\u001b[0;34m\"title\"\u001b[0m\u001b[0;34m]\u001b[0m\u001b[0;34m:\u001b[0m\u001b[0mfloat\u001b[0m\u001b[0;34m(\u001b[0m\u001b[0mdic\u001b[0m\u001b[0;34m[\u001b[0m\u001b[0;34m\"mrp\"\u001b[0m\u001b[0;34m]\u001b[0m\u001b[0;34m)\u001b[0m\u001b[0;34m}\u001b[0m\u001b[0;34m\u001b[0m\u001b[0;34m\u001b[0m\u001b[0m\n\u001b[0m\u001b[1;32m      7\u001b[0m         \u001b[0mdata\u001b[0m\u001b[0;34m.\u001b[0m\u001b[0mupdate\u001b[0m\u001b[0;34m(\u001b[0m\u001b[0mtemp\u001b[0m\u001b[0;34m)\u001b[0m\u001b[0;34m\u001b[0m\u001b[0;34m\u001b[0m\u001b[0m\n\u001b[1;32m      8\u001b[0m \u001b[0ma\u001b[0m\u001b[0;34m=\u001b[0m\u001b[0;34m[\u001b[0m\u001b[0;34m]\u001b[0m\u001b[0;34m\u001b[0m\u001b[0;34m\u001b[0m\u001b[0m\n",
      "\u001b[0;31mTypeError\u001b[0m: float() argument must be a string or a number, not 'NoneType'"
     ]
    }
   ],
   "source": [
    "data = {}\n",
    "data2 = {}\n",
    "with open(\"today.json\") as file:\n",
    "    for obj in file: #read each json obj and store in a temp dict\n",
    "        dic = json.loads(obj)\n",
    "        temp = {dic[\"title\"]:float(dic[\"mrp\"])}\n",
    "        data.update(temp)\n",
    "a=[]\n",
    "for key,value in data.items():\n",
    "    temp = [value,key]\n",
    "    a.append(temp)\n",
    "# print(a[0:11])\n",
    "a=sorted(a)\n",
    "data = {}\n",
    "for val,key in a:\n",
    "    temp = {key:val}\n",
    "    data.update(temp)\n",
    "for k,v in data.items():\n",
    "    print(k,v)\n",
    "    \n",
    "        \n",
    "# with open(\"yesterday.json\") as file2:\n",
    "#     for obj in file2:\n",
    "#         dic = json.loads(obj)\n",
    "#         cat_yest.append(dic[\"category\"])\n"
   ]
  },
  {
   "cell_type": "code",
   "execution_count": 74,
   "id": "90ff7ec8",
   "metadata": {},
   "outputs": [
    {
     "name": "stdout",
     "output_type": "stream",
     "text": [
      "[[43, 'Kane'], [54, 'Tina'], [67, 'Tom'], [73, 'Divya'], [87, 'Akbar']]\n",
      "{'Kane': 43, 'Tina': 54, 'Tom': 67, 'Divya': 73, 'Akbar': 87}\n"
     ]
    }
   ],
   "source": [
    "markdict = {\"Tom\":67, \"Tina\": 54, \"Akbar\": 87, \"Kane\": 43, \"Divya\":73}\n",
    "a=[]\n",
    "dic={}\n",
    "for (key,value) in markdict.items():\n",
    "    temp = [value,key]\n",
    "    a.append(temp)\n",
    "a = sorted(a)\n",
    "print(a)\n",
    "for v,k in a:\n",
    "    temp={k:v}\n",
    "    dic.update(temp)\n",
    "print(dic)\n",
    "# marklist=sorted((value, key) for (key,value) in markdict.items())\n",
    "# sortdict=dict([(k,v) for v,k in marklist])\n",
    "# print(sortdict)"
   ]
  }
 ],
 "metadata": {
  "kernelspec": {
   "display_name": "Python 3 (ipykernel)",
   "language": "python",
   "name": "python3"
  },
  "language_info": {
   "codemirror_mode": {
    "name": "ipython",
    "version": 3
   },
   "file_extension": ".py",
   "mimetype": "text/x-python",
   "name": "python",
   "nbconvert_exporter": "python",
   "pygments_lexer": "ipython3",
   "version": "3.8.12"
  }
 },
 "nbformat": 4,
 "nbformat_minor": 5
}
